{
 "cells": [
  {
   "cell_type": "markdown",
   "id": "cc24bdc2",
   "metadata": {},
   "source": [
    "Try and Except"
   ]
  },
  {
   "cell_type": "code",
   "execution_count": 3,
   "id": "7c6275d6",
   "metadata": {},
   "outputs": [],
   "source": [
    "try:\n",
    "    a_sum = '1' + 1\n",
    "except:\n",
    "    a_sum =  'Error'"
   ]
  },
  {
   "cell_type": "code",
   "execution_count": 5,
   "id": "fcf73616",
   "metadata": {},
   "outputs": [
    {
     "data": {
      "text/plain": [
       "2"
      ]
     },
     "execution_count": 5,
     "metadata": {},
     "output_type": "execute_result"
    }
   ],
   "source": [
    "a_sum"
   ]
  },
  {
   "cell_type": "code",
   "execution_count": 12,
   "id": "2a6ae74f",
   "metadata": {},
   "outputs": [
    {
     "name": "stdout",
     "output_type": "stream",
     "text": [
      "Enter a number to double: 2\n",
      "4\n"
     ]
    }
   ],
   "source": [
    "user_input = input('Enter a number to double: ')\n",
    "\n",
    "try:\n",
    "    user_input = int(user_input)\n",
    "    result = user_input * 2\n",
    "    print(result)\n",
    "except ValueError:\n",
    "    print(\"ValueError\")"
   ]
  },
  {
   "cell_type": "code",
   "execution_count": null,
   "id": "32f6016c",
   "metadata": {},
   "outputs": [],
   "source": [
    "user_input = input('Enter a number to double: ')\n",
    "a_pokemon = {\n",
    "    'name':'Pikachu'\n",
    "    'weight':86\n",
    "}\n",
    "\n",
    "\n",
    "try:\n",
    "    user_input = int(user_input)\n",
    "    result = user_input * 2\n",
    "    print(result)\n",
    "except ValueError:\n",
    "    print(\"ValueError\")"
   ]
  },
  {
   "cell_type": "code",
   "execution_count": 16,
   "id": "e1e66652",
   "metadata": {},
   "outputs": [
    {
     "ename": "SyntaxError",
     "evalue": "f-string: empty expression not allowed (1371272400.py, line 10)",
     "output_type": "error",
     "traceback": [
      "\u001b[0;36m  Input \u001b[0;32mIn [16]\u001b[0;36m\u001b[0m\n\u001b[0;31m    raise ValueError(f'{} is not a number 1-10.')\u001b[0m\n\u001b[0m                                                ^\u001b[0m\n\u001b[0;31mSyntaxError\u001b[0m\u001b[0;31m:\u001b[0m f-string: empty expression not allowed\n"
     ]
    }
   ],
   "source": [
    "import random \n",
    "\n",
    "\n",
    "answer = random.randint(1,10)\n",
    "\n",
    "try:\n",
    "    guess = int(input('guess a number 1-10:'))\n",
    "    \n",
    "    if guess <1 or guess >10:\n",
    "        raise ValueError(f'{} is not a number 1-10.')\n",
    "        \n",
    "        if guess == answer:\n",
    "            print('you guessed correctly')\n",
    "        else:\n",
    "            print('you guessed incorrectly')\n",
    "except ValueError as error:\n",
    "    print(error)\n",
    "except Exception as error:\n",
    "    print(error)"
   ]
  },
  {
   "cell_type": "code",
   "execution_count": 19,
   "id": "558ecf88",
   "metadata": {},
   "outputs": [
    {
     "name": "stdout",
     "output_type": "stream",
     "text": [
      "Person's Name: lucas\n",
      "Person's Address: 123\n",
      "lucas is already in your address book.\n",
      "Would you like to continue (y/n)? n\n",
      "{'lucas': '123'}\n"
     ]
    }
   ],
   "source": [
    "from IPython.display import clear_output\n",
    "\n",
    "# step 2\n",
    "address_book = {}\n",
    "\n",
    "# step 1\n",
    "def store_user_info(name, address):\n",
    "    # Add a try and except, that handles the case\n",
    "    # where the name is already in the address book\n",
    "    try:\n",
    "        if name in address_book:\n",
    "            raise Exception(f\"{name} is already in your address book.\")\n",
    "        else:\n",
    "            address_book[name] = address\n",
    "    except Exception as error:\n",
    "        print(error)\n",
    "    \n",
    "def remove_user_info(name):\n",
    "    # Add a try and except to handle the key error\n",
    "    try:\n",
    "        del address_book[name]\n",
    "    except:\n",
    "        print(f'{name} is not in your address book.')\n",
    "        \n",
    "def main():\n",
    "    # step 3\n",
    "    while True:\n",
    "        clear_output()\n",
    "        # step 4\n",
    "        name = input(\"Person's Name: \")\n",
    "        address = input(\"Person's Address: \")\n",
    "        \n",
    "        # step 6\n",
    "        store_user_info(name, address)\n",
    "        \n",
    "        cont = input(\"Would you like to continue (y/n)? \")\n",
    "        \n",
    "        # step 5\n",
    "        if cont == 'n':\n",
    "            # step 5b\n",
    "            break\n",
    "            \n",
    "    # step 5a\n",
    "    print(address_book)\n",
    "    \n",
    "# step 7\n",
    "main()"
   ]
  },
  {
   "cell_type": "code",
   "execution_count": 21,
   "id": "694a1f3f",
   "metadata": {},
   "outputs": [
    {
     "name": "stdout",
     "output_type": "stream",
     "text": [
      "lucas is not in your address book.\n"
     ]
    }
   ],
   "source": [
    "remove_user_info('lucas')"
   ]
  },
  {
   "cell_type": "code",
   "execution_count": 9,
   "id": "60e765c1",
   "metadata": {},
   "outputs": [
    {
     "name": "stdout",
     "output_type": "stream",
     "text": [
      "{}\n"
     ]
    }
   ],
   "source": []
  },
  {
   "cell_type": "code",
   "execution_count": null,
   "id": "0dbda849",
   "metadata": {},
   "outputs": [],
   "source": []
  }
 ],
 "metadata": {
  "kernelspec": {
   "display_name": "Python 3.10.8 64-bit",
   "language": "python",
   "name": "python3"
  },
  "language_info": {
   "codemirror_mode": {
    "name": "ipython",
    "version": 3
   },
   "file_extension": ".py",
   "mimetype": "text/x-python",
   "name": "python",
   "nbconvert_exporter": "python",
   "pygments_lexer": "ipython3",
   "version": "3.10.8"
  },
  "vscode": {
   "interpreter": {
    "hash": "aee8b7b246df8f9039afb4144a1f6fd8d2ca17a180786b69acc140d282b71a49"
   }
  }
 },
 "nbformat": 4,
 "nbformat_minor": 5
}
